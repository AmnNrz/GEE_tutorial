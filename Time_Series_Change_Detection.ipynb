{
  "cells": [
    {
      "cell_type": "markdown",
      "metadata": {
        "id": "view-in-github",
        "colab_type": "text"
      },
      "source": [
        "<a href=\"https://colab.research.google.com/github/AmnNrz/GEE_tutorial/blob/main/Time_Series_Change_Detection.ipynb\" target=\"_parent\"><img src=\"https://colab.research.google.com/assets/colab-badge.svg\" alt=\"Open In Colab\"/></a>"
      ]
    },
    {
      "cell_type": "code",
      "execution_count": null,
      "metadata": {
        "collapsed": true,
        "id": "ViWPAcuW5kBB"
      },
      "outputs": [],
      "source": [
        "# Install the geemap package with additional features used in workshops\n",
        "%pip install -U \"geemap[workshop]\""
      ]
    },
    {
      "cell_type": "markdown",
      "source": [],
      "metadata": {
        "id": "Yn-08gua1pXJ"
      }
    },
    {
      "cell_type": "code",
      "execution_count": null,
      "metadata": {
        "id": "X3gmOrIK5nOc"
      },
      "outputs": [],
      "source": [
        "# Import required libraries\n",
        "import ee         # Earth Engine API\n",
        "import geemap     # Helper library to work with Earth Engine in Python\n",
        "\n",
        "# Update geemap in case it's not the latest version\n",
        "geemap.update_package()\n",
        "\n",
        "# Authenticate your Earth Engine account (one-time popup for login)\n",
        "ee.Authenticate()\n",
        "\n",
        "# Initialize the Earth Engine session (replace with your project if needed)\n",
        "ee.Initialize(project='clear-shadow-332006')"
      ]
    },
    {
      "cell_type": "code",
      "execution_count": null,
      "metadata": {
        "id": "yK9A52MA6TP7"
      },
      "outputs": [],
      "source": [
        "# Create an interactive map\n",
        "map = geemap.Map()\n",
        "map  # This displays the map in the notebook\n"
      ]
    },
    {
      "cell_type": "code",
      "execution_count": null,
      "metadata": {
        "id": "lUmbl89l6tYn"
      },
      "outputs": [],
      "source": [
        "# Get the features (shapes) you drew on the map (e.g., polygon and points)\n",
        "all_features = map.user_rois\n",
        "all_features  # Show the list of drawn features\n",
        "\n",
        "# Convert all features to a list so we can access them individually\n",
        "features_list = all_features.toList(all_features.size())\n",
        "\n",
        "# Assign the first feature (likely a polygon) as the study area\n",
        "study_area = ee.Feature(features_list.get(0)).geometry()\n",
        "\n",
        "# Assign the second and third features as points (for time series extraction)\n",
        "point1 = ee.Feature(features_list.get(1)).geometry()\n",
        "point2 = ee.Feature(features_list.get(2)).geometry()"
      ]
    },
    {
      "cell_type": "code",
      "execution_count": null,
      "metadata": {
        "id": "uJGcZTCX6x6w"
      },
      "outputs": [],
      "source": [
        "# ---------------------------------------------------------------\n",
        "# Step 1: Load and scale Landsat 8 surface reflectance imagery\n",
        "# ---------------------------------------------------------------\n",
        "\n",
        "# Filter Landsat 8 Tier 1 imagery by the study area\n",
        "l8_sr = (ee.ImageCollection('LANDSAT/LC08/C02/T1_L2')\n",
        "         .filterBounds(study_area))\n",
        "\n",
        "# Function to scale optical and thermal bands based on metadata\n",
        "def apply_scale_factors(image):\n",
        "    # Scale optical bands (B1–B7)\n",
        "    optical = image.select('SR_B.*').multiply(0.0000275).add(-0.2)\n",
        "    # Scale thermal band (B10)\n",
        "    thermal = image.select('ST_B10').multiply(0.00341802).add(149.0)\n",
        "    # Return image with scaled bands\n",
        "    return (image\n",
        "            .addBands(optical, overwrite=True)\n",
        "            .addBands(thermal,  overwrite=True))\n",
        "\n",
        "# Apply the scaling function to each image in the collection\n",
        "l8_sr = l8_sr.map(apply_scale_factors)"
      ]
    },
    {
      "cell_type": "code",
      "execution_count": null,
      "metadata": {
        "id": "DSOVeptT64_5"
      },
      "outputs": [],
      "source": [
        "# ---------------------------------------------------------------\n",
        "# Step 2: Cloud and snow masking using QA_PIXEL band\n",
        "# ---------------------------------------------------------------\n",
        "\n",
        "# Function to mask out clouds, cloud shadows, and snow\n",
        "def mask_l8_sr(image):\n",
        "    qa = image.select('QA_PIXEL')  # Select quality assurance band\n",
        "    mask = (qa.bitwiseAnd(1 << 4).eq(0)     # Bit 4 = cloud shadow\n",
        "            .And(qa.bitwiseAnd(1 << 5).eq(0))  # Bit 5 = snow\n",
        "            .And(qa.bitwiseAnd(1 << 6).neq(0))) # Bit 6 = clear condition\n",
        "    return (image.updateMask(mask)  # Apply the mask to the image\n",
        "                 .select('SR_B.*')  # Keep only surface reflectance bands\n",
        "                 .copyProperties(image, ['system:time_start']))  # Preserve timestamp\n"
      ]
    },
    {
      "cell_type": "code",
      "execution_count": null,
      "metadata": {
        "id": "xhQ3UEM06_sv"
      },
      "outputs": [],
      "source": [
        "# ---------------------------------------------------------------\n",
        "# Step 3: Add EVI (Enhanced Vegetation Index) band\n",
        "# ---------------------------------------------------------------\n",
        "\n",
        "# Function to calculate and add EVI band\n",
        "def add_evi(image):\n",
        "    evi = image.expression(\n",
        "        '2.5 * ((NIR - RED) / (NIR + 6 * RED - 7.5 * BLUE + 1))',\n",
        "        {\n",
        "            'NIR': image.select('SR_B5'),    # Near Infrared band\n",
        "            'RED': image.select('SR_B4'),    # Red band\n",
        "            'BLUE': image.select('SR_B2')    # Blue band\n",
        "        }).rename('EVI')  # Rename result as 'EVI'\n",
        "    return image.addBands(evi)  # Add the EVI band to the image\n",
        "\n",
        "# ---------------------------------------------------------------\n",
        "# Step 4: Create yearly EVI composite images\n",
        "# ---------------------------------------------------------------\n",
        "\n",
        "# Function to create a median composite image for each year\n",
        "def make_yearly_composite(year):\n",
        "    year   = ee.Number(year)  # Convert to Earth Engine number\n",
        "    start  = ee.Date.fromYMD(year, 5, 1)   # Start date: May 1\n",
        "    end    = ee.Date.fromYMD(year, 9, 15)  # End date: Sep 15\n",
        "\n",
        "    composite = (l8_sr\n",
        "                 .filterDate(start, end)  # Filter to summer months\n",
        "                 .map(mask_l8_sr)         # Apply cloud mask\n",
        "                 .median())               # Take pixel-wise median\n",
        "\n",
        "    composite = (add_evi(composite)         # Add EVI band\n",
        "                 .select('EVI')             # Keep only EVI\n",
        "                 .set('system:time_start', start.millis()))  # Set image date\n",
        "    return composite\n",
        "\n"
      ]
    },
    {
      "cell_type": "code",
      "execution_count": null,
      "metadata": {
        "id": "O0r_WjwZ7B66"
      },
      "outputs": [],
      "source": [
        "# ---------------------------------------------------------------\n",
        "# Step 5: Build ImageCollection for all years\n",
        "# ---------------------------------------------------------------\n",
        "\n",
        "# Create a list of years to process\n",
        "years = ee.List.sequence(2014, 2020)\n",
        "\n",
        "# Map the composite function over all years\n",
        "composites = years.map(make_yearly_composite)\n",
        "\n",
        "# Convert the list of images into an ImageCollection\n",
        "yearly_col = ee.ImageCollection.fromImages(composites)\n",
        "\n",
        "# ---------------------------------------------------------------\n",
        "# Step 6: Visualize the yearly EVI composites\n",
        "# ---------------------------------------------------------------\n",
        "\n",
        "# Define visualization parameters for EVI\n",
        "evi_vis = {'min': -1, 'max': 1, 'palette': ['white', 'green']}\n",
        "\n",
        "# Center the map on the study area\n",
        "map.centerObject(study_area, 8)\n",
        "\n",
        "# Loop through each year to add its EVI layer to the map\n",
        "for yr in years.getInfo():   # Convert list to client-side for loop\n",
        "    img = (yearly_col\n",
        "           .filterDate(f'{yr}-01-01', f'{yr}-12-31')  # Get image from that year\n",
        "           .first()  # Take the first image (only one per year)\n",
        "           .clip(study_area))  # Crop to study area\n",
        "    map.addLayer(img, evi_vis, f'{yr} EVI')  # Add to map with label\n",
        "\n",
        "map  # Display map with layers"
      ]
    },
    {
      "cell_type": "code",
      "execution_count": null,
      "metadata": {
        "id": "KhFgxGc97HuH"
      },
      "outputs": [],
      "source": [
        "import pandas as pd\n",
        "import matplotlib.pyplot as plt\n",
        "\n",
        "# STEP 2: Create list of years again (Python list this time)\n",
        "years = list(range(2014, 2021))\n",
        "\n",
        "# STEP 3: Define function to extract time series from a point\n",
        "def extract_time_series(image_collection, point, band_name, scale=30):\n",
        "    def reduce_image(img):\n",
        "        value = img.reduceRegion(\n",
        "            reducer=ee.Reducer.mean(),  # Average value at the point\n",
        "            geometry=point,\n",
        "            scale=scale,\n",
        "            maxPixels=1e13\n",
        "        )\n",
        "        return ee.Feature(None, {\n",
        "            'date': img.date().millis(),     # Store date in milliseconds\n",
        "            'value': value.get(band_name)    # Extract band value\n",
        "        })\n",
        "\n",
        "    return ee.FeatureCollection(image_collection.map(reduce_image))\n",
        "\n",
        "# STEP 4: Extract time series for both points\n",
        "ts_point1 = extract_time_series(yearly_col.select('EVI'), point1, 'EVI')\n",
        "ts_point2 = extract_time_series(yearly_col.select('EVI'), point2, 'EVI')\n",
        "\n",
        "# STEP 5: Convert to pandas DataFrame\n",
        "df1 = geemap.ee_to_df(ts_point1)\n",
        "df1['date'] = pd.to_datetime(df1['date'], unit='ms')  # Convert timestamp\n",
        "\n",
        "df2 = geemap.ee_to_df(ts_point2)\n",
        "df2['date'] = pd.to_datetime(df2['date'], unit='ms')\n"
      ]
    },
    {
      "cell_type": "code",
      "execution_count": null,
      "metadata": {
        "id": "rqTJ5s7P7gUE"
      },
      "outputs": [],
      "source": [
        "# STEP 6: Plot EVI time series for both points\n",
        "plt.figure(figsize=(10, 5))\n",
        "plt.plot(df1['date'], df1['value'], marker='o', label='Point 1')\n",
        "plt.plot(df2['date'], df2['value'], marker='x', label='Point 2')\n",
        "plt.title('EVI Time Series')  # Title of the chart\n",
        "plt.xlabel('Date')\n",
        "plt.ylabel('EVI')\n",
        "plt.legend()\n",
        "plt.grid(True)\n",
        "plt.tight_layout()\n",
        "plt.show()"
      ]
    },
    {
      "cell_type": "code",
      "execution_count": null,
      "metadata": {
        "id": "AJdCYVSf7m_z"
      },
      "outputs": [],
      "source": [
        "# ---------------------------------------------------------------\n",
        "# Create an animated GIF of EVI change over the years\n",
        "# ---------------------------------------------------------------\n",
        "\n",
        "import os\n",
        "import geemap\n",
        "from PIL import Image, ImageDraw, ImageFont, ImageSequence\n",
        "\n",
        "# Step 1: Define animation parameters\n",
        "video_args = {\n",
        "    'dimensions': 768,        # Size of the video frame (pixels)\n",
        "    'region': study_area,     # Area to animate\n",
        "    'framesPerSecond': 1,     # 1 frame per second\n",
        "    'bands': ['EVI'],         # Use only EVI band\n",
        "    'min': -1,\n",
        "    'max': 1,\n",
        "}\n",
        "\n",
        "# Step 2: Download the raw GIF\n",
        "out_gif = '/content/evi_timeseries.gif'\n",
        "geemap.download_ee_video(yearly_col.select('EVI'), video_args, out_gif)\n",
        "\n",
        "# Step 3: Open the GIF and prepare to add year labels\n",
        "orig = Image.open(out_gif)\n",
        "years = list(range(2014, 2021))  # Year labels to add\n",
        "frames = []\n",
        "font = ImageFont.load_default()  # Use default font\n",
        "\n",
        "# Loop through each frame to draw year labels\n",
        "for idx, frame in enumerate(ImageSequence.Iterator(orig)):\n",
        "    img = frame.convert('RGBA')  # Convert frame to RGBA format\n",
        "    draw = ImageDraw.Draw(img)\n",
        "    text = str(years[idx])  # Label for this year\n",
        "    bbox = draw.textbbox((0, 0), text, font=font)  # Get text size\n",
        "    w, h = bbox[2] - bbox[0], bbox[3] - bbox[1]\n",
        "    x, y = 10, 10  # Top-left corner\n",
        "    draw.rectangle([x-4, y-4, x+w+4, y+h+4], fill=(0, 0, 0, 127))  # Background box\n",
        "    draw.text((x, y), text, font=font, fill=(255, 255, 255, 255))  # Write text\n",
        "    frames.append(img)  # Save the modified frame\n",
        "\n",
        "# Step 4: Save new GIF with labels\n",
        "labeled_gif = '/content/evi_timeseries_labeled.gif'\n",
        "frames[0].save(\n",
        "    labeled_gif,\n",
        "    save_all=True,\n",
        "    append_images=frames[1:],\n",
        "    duration=orig.info['duration'],\n",
        "    loop=0\n",
        ")\n",
        "\n",
        "# Step 5: Display the final labeled GIF\n",
        "geemap.show_image(labeled_gif)"
      ]
    }
  ],
  "metadata": {
    "colab": {
      "provenance": [],
      "authorship_tag": "ABX9TyMhK//2EBduIsKfxCS9CRq6",
      "include_colab_link": true
    },
    "kernelspec": {
      "display_name": "Python 3",
      "name": "python3"
    },
    "language_info": {
      "name": "python"
    }
  },
  "nbformat": 4,
  "nbformat_minor": 0
}